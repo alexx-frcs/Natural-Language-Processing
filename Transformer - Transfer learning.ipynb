{
 "cells": [
  {
   "cell_type": "markdown",
   "metadata": {
    "id": "DlAfI8mCWAf3"
   },
   "source": []
  },
  {
   "cell_type": "code",
   "execution_count": 1,
   "metadata": {
    "id": "IqukuIe0Rb_c"
   },
   "outputs": [],
   "source": [
    "import math\n",
    "\n",
    "import torch\n",
    "import torch.nn as nn\n",
    "from torch.nn.utils.rnn import pad_sequence\n",
    "\n",
    "device = torch.device(\"cuda\" if torch.cuda.is_available() else \"cpu\")"
   ]
  },
  {
   "cell_type": "markdown",
   "metadata": {
    "id": "5FF6fjkqgN39"
   },
   "source": [
    "### The Model"
   ]
  },
  {
   "cell_type": "code",
   "execution_count": 2,
   "metadata": {
    "id": "p0cj9WkSFQwl"
   },
   "outputs": [],
   "source": [
    "class TransformerModel(nn.Module):\n",
    "    def __init__(self, ntoken, nhead, nhid, nlayers, dropout=0.5):\n",
    "        super(TransformerModel, self).__init__()\n",
    "        '''\n",
    "        ntokens: the size of vocabulary\n",
    "        nhid: the hidden dimension of the model.\n",
    "        We assume that embedding_dim = nhid\n",
    "        nlayers: the number of nn.TransformerEncoderLayer in nn.TransformerEncoder\n",
    "        nhead: the number of heads in the multiheadattention models\n",
    "        dropout: the dropout value\n",
    "         '''\n",
    "        self.model_type = \"Transformer\"\n",
    "        self.encoder = nn.Embedding(ntoken, nhid)# nhid = the dim_embed\n",
    "        self.pos_encoder = PositionalEncoding(nhid) # the PositionalEncoding class is implemented in the next cell\n",
    "        encoder_layers = nn.TransformerEncoderLayer(nhid, nhead, dim_feedforward=nhid) # we assume nhid = d_model = dim_feedforward\n",
    "        self.transformer_encoder = nn.TransformerEncoder(encoder_layers, nlayers) \n",
    "        self.nhid = nhid\n",
    "        self.init_weights()\n",
    "\n",
    "    def generate_square_subsequent_mask(self, sz):\n",
    "        mask = (torch.triu(torch.ones(sz, sz)) == 1).transpose(0, 1)\n",
    "        mask = (\n",
    "            mask.float()\n",
    "            .masked_fill(mask == 0, float(\"-inf\"))\n",
    "            .masked_fill(mask == 1, float(0.0))\n",
    "        )\n",
    "        return mask\n",
    "\n",
    "    def init_weights(self):\n",
    "        initrange = 0.1\n",
    "        self.encoder.weight.data.uniform_(-initrange, initrange)\n",
    "\n",
    "    def forward(self, src, src_mask):\n",
    "        src = self.encoder(src) * math.sqrt(self.nhid)\n",
    "        src = self.pos_encoder(src)\n",
    "        output = self.transformer_encoder(src, src_mask)\n",
    "        return output\n",
    "\n",
    "\n",
    "class ClassificationHead(nn.Module):\n",
    "    def __init__(self, nhid, nclasses):\n",
    "        super(ClassificationHead, self).__init__()\n",
    "        self.decoder = nn.Linear(nhid, nclasses) #fill me\n",
    "        self.init_weights()\n",
    "\n",
    "    def init_weights(self):\n",
    "        initrange = 0.1\n",
    "        self.decoder.bias.data.zero_()\n",
    "        self.decoder.weight.data.uniform_(-initrange, initrange)\n",
    "\n",
    "    def forward(self, src):\n",
    "        output = self.decoder(src)\n",
    "        return output\n",
    "\n",
    "class Model(nn.Module):\n",
    "    def __init__(self, ntoken, nhead, nhid, nlayers, nclasses, dropout=0.5):\n",
    "        super(Model, self).__init__()\n",
    "        self.base = TransformerModel(ntoken, nhead, nhid, nlayers, dropout=dropout)  \n",
    "        self.classifier = ClassificationHead(nhid, nclasses)\n",
    "    def forward(self, src, src_mask):\n",
    "        # base model\n",
    "        x = self.base(src, src_mask)\n",
    "        # classifier model\n",
    "        output = self.classifier(x)\n",
    "        return output"
   ]
  },
  {
   "cell_type": "code",
   "execution_count": 3,
   "metadata": {
    "id": "kt2QQohaFZry"
   },
   "outputs": [],
   "source": [
    "class PositionalEncoding(nn.Module):\n",
    "    def __init__(self, nhid, dropout=0.1, max_len=5000):\n",
    "        super(PositionalEncoding, self).__init__()\n",
    "        self.dropout = nn.Dropout(p=dropout)\n",
    "\n",
    "        pe = torch.zeros(max_len, nhid)\n",
    "        position = torch.arange(0, max_len, dtype=torch.float).unsqueeze(1)\n",
    "        div_term = torch.exp(\n",
    "            torch.arange(0, nhid, 2).float() * (-math.log(10000.0) / nhid)\n",
    "        )\n",
    "        pe[:, 0::2] = torch.sin(position * div_term)\n",
    "        pe[:, 1::2] = torch.cos(position * div_term)\n",
    "        pe = pe.unsqueeze(0).transpose(0, 1)\n",
    "        self.register_buffer(\"pe\", pe)\n",
    "\n",
    "    def forward(self, x):\n",
    "        x = x + self.pe[: x.size(0), :]\n",
    "        return self.dropout(x)"
   ]
  },
  {
   "cell_type": "markdown",
   "metadata": {
    "id": "SfEYHJx2JW6l"
   },
   "source": [
    "Let's verify if our model works, by applying one inference step"
   ]
  },
  {
   "cell_type": "code",
   "execution_count": 4,
   "metadata": {
    "colab": {
     "base_uri": "https://localhost:8080/"
    },
    "id": "rhb2gkUhJMR0",
    "outputId": "8488a728-d048-4374-e9b8-c1144db45994"
   },
   "outputs": [
    {
     "name": "stderr",
     "output_type": "stream",
     "text": [
      "/usr/local/lib/python3.10/dist-packages/torch/nn/modules/transformer.py:282: UserWarning: enable_nested_tensor is True, but self.use_nested_tensor is False because encoder_layer.self_attn.batch_first was not True(use batch_first for better inference performance)\n",
      "  warnings.warn(f\"enable_nested_tensor is True, but self.use_nested_tensor is False because {why_not_sparsity_fast_path}\")\n"
     ]
    },
    {
     "name": "stdout",
     "output_type": "stream",
     "text": [
      "torch.Size([1, 6, 100])\n"
     ]
    }
   ],
   "source": [
    "ntokens = 100 # the size of vocabulary\n",
    "nhid = 200  # hidden dimension\n",
    "nlayers = 4  # the number of nn.TransformerEncoderLayer in nn.TransformerEncoder\n",
    "nhead = 2  # the number of heads in the multiheadattention models\n",
    "dropout = 0  # the dropout value\n",
    "\n",
    "model = Model(ntokens, nhead, nhid, nlayers, ntokens, dropout).to(device)\n",
    "dummy_input = torch.tensor([[2, 6, 2, 5, 43, 21]]).to(device)\n",
    "src_mask = model.base.generate_square_subsequent_mask(1).to(device)\n",
    "out = model.forward(dummy_input, src_mask)\n",
    "\n",
    "print(out.shape) "
   ]
  },
  {
   "cell_type": "markdown",
   "metadata": {
    "id": "i74NN897Fcit"
   },
   "source": [
    "## Vocabulary and Tokenization"
   ]
  },
  {
   "cell_type": "code",
   "execution_count": 5,
   "metadata": {
    "colab": {
     "base_uri": "https://localhost:8080/"
    },
    "id": "5qjd26ghWuff",
    "outputId": "9a6a0aa6-ddaa-45f6-cbd1-b50745adb6f7"
   },
   "outputs": [
    {
     "name": "stdout",
     "output_type": "stream",
     "text": [
      "--2023-10-26 22:39:43--  https://raw.githubusercontent.com/moussaKam/transfer_learning_transformers/main/dict.txt\n",
      "Resolving raw.githubusercontent.com (raw.githubusercontent.com)... 185.199.108.133, 185.199.109.133, 185.199.110.133, ...\n",
      "Connecting to raw.githubusercontent.com (raw.githubusercontent.com)|185.199.108.133|:443... connected.\n",
      "HTTP request sent, awaiting response... 200 OK\n",
      "Length: 577587 (564K) [text/plain]\n",
      "Saving to: ‘dict.txt.3’\n",
      "\n",
      "dict.txt.3          100%[===================>] 564.05K  --.-KB/s    in 0.04s   \n",
      "\n",
      "2023-10-26 22:39:43 (15.2 MB/s) - ‘dict.txt.3’ saved [577587/577587]\n",
      "\n",
      "▁d 1\n",
      "es 1\n",
      "▁l 1\n",
      "en 1\n",
      "on 1\n"
     ]
    }
   ],
   "source": [
    "!wget https://raw.githubusercontent.com/moussaKam/transfer_learning_transformers/main/dict.txt\n",
    "!head -5 dict.txt"
   ]
  },
  {
   "cell_type": "code",
   "execution_count": 6,
   "metadata": {
    "colab": {
     "base_uri": "https://localhost:8080/"
    },
    "id": "vFdH_-JeFbGA",
    "outputId": "92a620f2-71ea-42d2-b777-f3ab7731b399"
   },
   "outputs": [
    {
     "name": "stdout",
     "output_type": "stream",
     "text": [
      "▁trop\n",
      "49922\n"
     ]
    }
   ],
   "source": [
    "path_vocab = \"dict.txt\"\n",
    "token2ind = {\"<sos>\": 0, \"<pad>\": 1, \"<eos>\": 2, \"<oov>\": 3} # the 4 first indices are reserved to special tokens\n",
    "with open(path_vocab, \"r\") as f:\n",
    "    for idx, line in enumerate(f):\n",
    "        word = line.split()[0].strip()\n",
    "        token2ind[word] = idx + 4 \n",
    "\n",
    "ind2token = {value: key for key, value in token2ind.items()} \n",
    "\n",
    "print(ind2token[1111])\n",
    "print(token2ind[\".\"])"
   ]
  },
  {
   "cell_type": "markdown",
   "metadata": {
    "id": "XOExGODajN8p"
   },
   "source": [
    "### Data Loader\n"
   ]
  },
  {
   "cell_type": "code",
   "execution_count": 8,
   "metadata": {
    "id": "Y0jN-Ar9i5Q1"
   },
   "outputs": [],
   "source": [
    "import numpy\n",
    "import torch\n",
    "from torch.nn.utils.rnn import pad_sequence\n",
    "from torch.utils.data import DataLoader, Dataset\n",
    "\n",
    "\n",
    "class Dataset(Dataset):\n",
    "    def __init__(\n",
    "        self,\n",
    "        path_documents,\n",
    "        path_labels=None,\n",
    "        token2ind={},\n",
    "        max_len=512,\n",
    "        task=\"language_modeling\",\n",
    "    ):\n",
    "        self.task = task\n",
    "        self.max_len = max_len\n",
    "        self.token2ind = token2ind\n",
    "        self.documents = []\n",
    "        self.labels = []\n",
    "        with open(path_documents, \"r\") as f1:\n",
    "            for line in f1:\n",
    "                self.documents.append(line.strip())\n",
    "        if task == \"classification\":\n",
    "            with open(path_labels, \"r\") as f1:\n",
    "                for line in f1:\n",
    "                    self.labels.append(int(line.strip()))\n",
    "            assert len(self.labels) == len(self.documents)\n",
    "\n",
    "    def __len__(self):\n",
    "        return len(self.documents)\n",
    "\n",
    "    def __getitem__(self, index):\n",
    "        sequence = self.documents[index].split()\n",
    "        if len(sequence) > self.max_len - 1:\n",
    "            sequence = sequence[: self.max_len - 1]\n",
    "        # print([token for token in sequence])\n",
    "        # print(sequence)\n",
    "        # print(len(sequence))\n",
    "        source_sequence = [self.token2ind.get(token, 3) for token in sequence] \n",
    "        # source_sequence.append(self.token2ind[\"<eos>\"])\n",
    "        # print(source_sequence)\n",
    "        if self.task == \"language_modeling\":\n",
    "            target = source_sequence[1:]\n",
    "            target.append(self.token2ind[\"<eos>\"])\n",
    "        elif self.task == \"classification\":\n",
    "            target = [self.labels[index]]\n",
    "        sample = {\n",
    "            \"source_sequence\": torch.tensor(source_sequence),\n",
    "            \"target\": torch.tensor(target),\n",
    "        }\n",
    "        # print(\"source shape\",torch.tensor(source_sequence).shape)\n",
    "        # print(\"target shape\",torch.tensor(target).shape)\n",
    "        return sample\n",
    "\n",
    "\n",
    "def MyCollator(batch):\n",
    "    source_sequences = pad_sequence(\n",
    "        #we use padding to match the length of the sequences in the same batch\n",
    "        [sample[\"source_sequence\"] for sample in batch], padding_value=token2ind[\"<pad>\"]\n",
    "    )\n",
    "    target = pad_sequence(\n",
    "        [sample[\"target\"] for sample in batch], padding_value=token2ind[\"<pad>\"]\n",
    "    )\n",
    "    return source_sequences, target.reshape(-1)\n",
    "\n",
    "\n",
    "def get_loader(\n",
    "    path_documents,\n",
    "    path_labels=None,\n",
    "    token2ind={},\n",
    "    max_len=512,\n",
    "    batch_size=32,\n",
    "    task=\"language_modeling\",\n",
    "):\n",
    "    dataset = Dataset(\n",
    "        path_documents,\n",
    "        path_labels=path_labels,\n",
    "        token2ind=token2ind,\n",
    "        max_len=512,\n",
    "        task=task,\n",
    "    )\n",
    "    data_loader = DataLoader(\n",
    "        dataset=dataset,\n",
    "        batch_size=batch_size,\n",
    "        shuffle=True,\n",
    "        collate_fn=MyCollator,\n",
    "        pin_memory=True,\n",
    "        drop_last=True,\n",
    "    )\n",
    "    return data_loader"
   ]
  },
  {
   "cell_type": "markdown",
   "metadata": {
    "id": "uTns4lHrjUTa"
   },
   "source": [
    "## The Training"
   ]
  },
  {
   "cell_type": "code",
   "execution_count": 33,
   "metadata": {
    "id": "4_jwosiLjRsS"
   },
   "outputs": [],
   "source": [
    "def train(\n",
    "    path_data_train,\n",
    "    path_labels_train=None,\n",
    "    path_data_valid=None,\n",
    "    save_interval=-1,\n",
    "    log_interval=5,\n",
    "    task=\"language_modeling\",\n",
    "    batch_size=32,\n",
    "):\n",
    "    model.train()\n",
    "    total_loss = 0.0\n",
    "    ntokens = len(token2ind)\n",
    "    data_loader = get_loader(\n",
    "        path_data_train,\n",
    "        path_labels_train,\n",
    "        token2ind,\n",
    "        task=task,\n",
    "        batch_size=batch_size,\n",
    "    )\n",
    "\n",
    "    losses = []\n",
    "    for idx, data in enumerate(data_loader): #step 1\n",
    "        optimizer.zero_grad()\n",
    "        src_mask = model.base.generate_square_subsequent_mask(data[0].size(0)).to(\n",
    "            device\n",
    "        )\n",
    "        # print(\"size of the mask : \",data[0].size(0))\n",
    "        # print(\"for a shape : \",data[0].shape)\n",
    "        input = data[0].to(device)\n",
    "        output = model(input, src_mask) #step 2\n",
    "        if task == 'classification':\n",
    "            #last vector only\n",
    "            output = output[-1] \n",
    "        output = output.view(-1, output.shape[-1])\n",
    "        target = data[1] \n",
    "        target = target.to(device)\n",
    "        loss = criterion(output, target) \n",
    "\n",
    "        optimizer.zero_grad()\n",
    "        loss.backward() \n",
    "        torch.nn.utils.clip_grad_norm_(model.parameters(), 0.5) # prevent exploding gradient\n",
    "  \n",
    "        optimizer.step()\n",
    "\n",
    "        total_loss += loss.item()\n",
    "        if idx % log_interval == 0 and idx > 0:\n",
    "            cur_loss = total_loss / log_interval\n",
    "            print(\n",
    "                \"| epoch {:3d} | {:5d}/{:5d} steps | \"\n",
    "                \"loss {:5.5f} | ppl {:8.3f}\".format(\n",
    "                    epoch, idx, len(data_loader), cur_loss, math.exp(cur_loss),\n",
    "                )\n",
    "            )\n",
    "            losses.append(cur_loss)\n",
    "            total_loss = 0\n",
    "    return losses"
   ]
  },
  {
   "cell_type": "code",
   "execution_count": null,
   "metadata": {
    "id": "0iSjE__nKwEn"
   },
   "outputs": [],
   "source": []
  },
  {
   "cell_type": "code",
   "execution_count": 10,
   "metadata": {
    "id": "pgf6BDB9jUr6"
   },
   "outputs": [],
   "source": [
    "ntokens = len(ind2token) #fill me # the size of vocabulary\n",
    "nhid = 200  # the dimension of the feedforward network model in nn.TransformerEncoder\n",
    "nlayers = 4  # the number of nn.TransformerEncoderLayer in nn.TransformerEncoder\n",
    "nhead = 2  # the number of heads in the multiheadattention models\n",
    "dropout = 0  # the dropout value\n",
    "\n",
    "nclasses = 2 # for classification task only\n",
    "\n",
    "model = Model(ntokens, nhead, nhid, nlayers, ntokens, dropout).to(device)"
   ]
  },
  {
   "cell_type": "code",
   "execution_count": 11,
   "metadata": {
    "id": "u-OLy4KIkDwf"
   },
   "outputs": [],
   "source": [
    "# optimization paramerters\n",
    "\n",
    "criterion = nn.CrossEntropyLoss(ignore_index=token2ind['<pad>'])\n",
    "lr = 0.0003  # learning rate\n",
    "optimizer = torch.optim.Adam(model.parameters(), lr=lr)"
   ]
  },
  {
   "cell_type": "code",
   "execution_count": 12,
   "metadata": {
    "colab": {
     "base_uri": "https://localhost:8080/"
    },
    "id": "Bwh3n9xZQy4e",
    "outputId": "58df0133-2592-43d5-de7e-aa6b5ff2a80c"
   },
   "outputs": [
    {
     "name": "stdout",
     "output_type": "stream",
     "text": [
      "--2023-10-26 22:40:03--  https://raw.githubusercontent.com/moussaKam/transfer_learning_transformers/main/pretraining_subset.txt\n",
      "Resolving raw.githubusercontent.com (raw.githubusercontent.com)... 185.199.108.133, 185.199.111.133, 185.199.110.133, ...\n",
      "Connecting to raw.githubusercontent.com (raw.githubusercontent.com)|185.199.108.133|:443... connected.\n",
      "HTTP request sent, awaiting response... 200 OK\n",
      "Length: 10146460 (9.7M) [text/plain]\n",
      "Saving to: ‘pretraining_subset.txt.12’\n",
      "\n",
      "pretraining_subset. 100%[===================>]   9.68M  --.-KB/s    in 0.07s   \n",
      "\n",
      "2023-10-26 22:40:03 (134 MB/s) - ‘pretraining_subset.txt.12’ saved [10146460/10146460]\n",
      "\n"
     ]
    }
   ],
   "source": [
    "!wget https://raw.githubusercontent.com/moussaKam/transfer_learning_transformers/main/pretraining_subset.txt\n",
    "path_data_train = \"pretraining_subset.txt\""
   ]
  },
  {
   "cell_type": "code",
   "execution_count": 56,
   "metadata": {
    "colab": {
     "base_uri": "https://localhost:8080/"
    },
    "id": "0m11g4ScjZaR",
    "outputId": "d5674f33-9470-48c1-b11b-a8d7ecf7ef6d"
   },
   "outputs": [
    {
     "name": "stdout",
     "output_type": "stream",
     "text": [
      "| epoch   1 |   500/ 3125 steps | loss 5.63180 | ppl  279.165\n",
      "| epoch   1 |  1000/ 3125 steps | loss 5.61889 | ppl  275.585\n",
      "| epoch   1 |  1500/ 3125 steps | loss 5.62892 | ppl  278.361\n",
      "| epoch   1 |  2000/ 3125 steps | loss 5.60713 | ppl  272.362\n",
      "| epoch   1 |  2500/ 3125 steps | loss 5.61982 | ppl  275.839\n",
      "| epoch   1 |  3000/ 3125 steps | loss 5.61375 | ppl  274.169\n",
      "| epoch   2 |   500/ 3125 steps | loss 5.60812 | ppl  272.631\n",
      "| epoch   2 |  1000/ 3125 steps | loss 5.61990 | ppl  275.861\n",
      "| epoch   2 |  1500/ 3125 steps | loss 5.61841 | ppl  275.451\n",
      "| epoch   2 |  2000/ 3125 steps | loss 5.62398 | ppl  276.990\n",
      "| epoch   2 |  2500/ 3125 steps | loss 5.62264 | ppl  276.618\n",
      "| epoch   2 |  3000/ 3125 steps | loss 5.61935 | ppl  275.710\n"
     ]
    }
   ],
   "source": [
    "#pretraining on a tiny subset\n",
    "log_interval = 500\n",
    "epochs = 2\n",
    "for epoch in range(1, epochs + 1): #5\n",
    "    train(\n",
    "        path_data_train,\n",
    "        save_interval=-1,\n",
    "        task=\"language_modeling\", # fill me\n",
    "        batch_size=16,\n",
    "        log_interval=log_interval,\n",
    "    )"
   ]
  },
  {
   "cell_type": "markdown",
   "metadata": {
    "id": "MeOM1dOvkO4e"
   },
   "source": [
    "## Text Generation\n"
   ]
  },
  {
   "cell_type": "code",
   "execution_count": 13,
   "metadata": {
    "colab": {
     "base_uri": "https://localhost:8080/"
    },
    "id": "-BcBC6FSkMH3",
    "outputId": "b9f5440f-6c8a-4c4b-b749-ad1ac5dbb1a1"
   },
   "outputs": [
    {
     "name": "stdout",
     "output_type": "stream",
     "text": [
      "--2023-10-26 22:40:07--  https://raw.githubusercontent.com/moussaKam/transfer_learning_transformers/main/pretrained_model_4layers.pt\n",
      "Resolving raw.githubusercontent.com (raw.githubusercontent.com)... 185.199.111.133, 185.199.108.133, 185.199.110.133, ...\n",
      "Connecting to raw.githubusercontent.com (raw.githubusercontent.com)|185.199.111.133|:443... connected.\n",
      "HTTP request sent, awaiting response... 200 OK\n",
      "Length: 88093955 (84M) [application/octet-stream]\n",
      "Saving to: ‘pretrained_model_4layers.pt.3’\n",
      "\n",
      "pretrained_model_4l 100%[===================>]  84.01M   344MB/s    in 0.2s    \n",
      "\n",
      "2023-10-26 22:40:13 (344 MB/s) - ‘pretrained_model_4layers.pt.3’ saved [88093955/88093955]\n",
      "\n"
     ]
    },
    {
     "name": "stderr",
     "output_type": "stream",
     "text": [
      "/usr/local/lib/python3.10/dist-packages/torch/nn/modules/transformer.py:282: UserWarning: enable_nested_tensor is True, but self.use_nested_tensor is False because encoder_layer.self_attn.batch_first was not True(use batch_first for better inference performance)\n",
      "  warnings.warn(f\"enable_nested_tensor is True, but self.use_nested_tensor is False because {why_not_sparsity_fast_path}\")\n"
     ]
    },
    {
     "data": {
      "text/plain": [
       "<All keys matched successfully>"
      ]
     },
     "execution_count": 13,
     "metadata": {},
     "output_type": "execute_result"
    }
   ],
   "source": [
    "!wget https://raw.githubusercontent.com/moussaKam/transfer_learning_transformers/main/pretrained_model_4layers.pt\n",
    "\n",
    "model = Model(ntokens, nhead, nhid, nlayers, ntokens).to(device)\n",
    "\n",
    "#load the checkpoint\n",
    "checkpoint = torch.load('pretrained_model_4layers.pt')\n",
    "#load state dict\n",
    "model.load_state_dict(checkpoint['model_state_dict'])"
   ]
  },
  {
   "cell_type": "code",
   "execution_count": 14,
   "metadata": {
    "colab": {
     "base_uri": "https://localhost:8080/"
    },
    "id": "tBRRVsWqlIoQ",
    "outputId": "72cc2721-c85f-4d0f-c79d-697eeab0b0c1"
   },
   "outputs": [
    {
     "name": "stdout",
     "output_type": "stream",
     "text": [
      "Requirement already satisfied: sentencepiece in /usr/local/lib/python3.10/dist-packages (0.1.99)\n",
      "--2023-10-26 22:40:17--  https://raw.githubusercontent.com/moussaKam/transfer_learning_transformers/main/sentencepiece.french.model\n",
      "Resolving raw.githubusercontent.com (raw.githubusercontent.com)... 185.199.111.133, 185.199.110.133, 185.199.108.133, ...\n",
      "Connecting to raw.githubusercontent.com (raw.githubusercontent.com)|185.199.111.133|:443... connected.\n",
      "HTTP request sent, awaiting response... 200 OK\n",
      "Length: 1115362 (1.1M) [application/octet-stream]\n",
      "Saving to: ‘sentencepiece.french.model.3’\n",
      "\n",
      "sentencepiece.frenc 100%[===================>]   1.06M  --.-KB/s    in 0.03s   \n",
      "\n",
      "2023-10-26 22:40:18 (31.7 MB/s) - ‘sentencepiece.french.model.3’ saved [1115362/1115362]\n",
      "\n",
      "['▁Bonjour', '▁les', '▁amis', '!']\n",
      "Bonjour les amis!\n"
     ]
    }
   ],
   "source": [
    "!pip install sentencepiece   # uncomment this if you are using google colab\n",
    "!wget https://raw.githubusercontent.com/moussaKam/transfer_learning_transformers/main/sentencepiece.french.model\n",
    "\n",
    "import sentencepiece as spm\n",
    "\n",
    "s = spm.SentencePieceProcessor(model_file='sentencepiece.french.model') #load sentencepiece model\n",
    "\n",
    "#examples\n",
    "encoded = s.encode_as_pieces(\"Bonjour les amis!\")\n",
    "decoded = s.decode_pieces(encoded)\n",
    "print(encoded)\n",
    "print(decoded)"
   ]
  },
  {
   "cell_type": "code",
   "execution_count": 15,
   "metadata": {
    "id": "TtLlV05pkQI3"
   },
   "outputs": [],
   "source": [
    "def infer_next_token(sent):\n",
    "    model.eval()\n",
    "    sent_pieces = s.encode_as_pieces(sent)\n",
    "    source = [token2ind['<sos>']] + [token2ind[el] for el in sent_pieces] # list of tokens\n",
    "    source = torch.tensor(source).to(device)\n",
    "    source = source.reshape(-1, 1)\n",
    "    src_mask = model.base.generate_square_subsequent_mask(source.size(0)).to(device)\n",
    "    out = model(source, src_mask)\n",
    "    next_token_ind = int(out.argmax(dim = -1 )[-1,0]) \n",
    "    out = ind2token[next_token_ind]\n",
    "    return next_token_ind, out\n",
    "\n",
    "def infer_next_tokens(sent, max_len=50):\n",
    "    i = 0\n",
    "    next_token_ind, out = infer_next_token(sent)\n",
    "    # print(ind2token[next_token_ind])\n",
    "    while i < max_len and next_token_ind != 2:\n",
    "        if out[0] == \"▁\":\n",
    "            sent += \" \" + out[1:]\n",
    "        else : sent += \" \" + out\n",
    "    i += 1\n",
    "    next_token_ind, out = infer_next_token(sent)\n",
    "    return sent\n"
   ]
  },
  {
   "cell_type": "code",
   "execution_count": 16,
   "metadata": {
    "colab": {
     "base_uri": "https://localhost:8080/",
     "height": 35
    },
    "id": "f83Nn5nSly4v",
    "outputId": "8d0fa8cb-9052-492c-c396-e4399527c88f"
   },
   "outputs": [
    {
     "data": {
      "application/vnd.google.colaboratory.intrinsic+json": {
       "type": "string"
      },
      "text/plain": [
       "'Bonjour les gens qui ont été très accueillants et sympathiques .'"
      ]
     },
     "execution_count": 16,
     "metadata": {},
     "output_type": "execute_result"
    }
   ],
   "source": [
    "sent = \"Bonjour les\"\n",
    "infer_next_tokens(sent)"
   ]
  },
  {
   "cell_type": "markdown",
   "metadata": {
    "id": "Lp7mjVzomoZ3"
   },
   "source": [
    "### Supervised task"
   ]
  },
  {
   "cell_type": "code",
   "execution_count": 17,
   "metadata": {
    "colab": {
     "base_uri": "https://localhost:8080/"
    },
    "id": "0K1BZsblmEmx",
    "outputId": "785513f7-105c-46c7-f45c-3c3fe8c2442a"
   },
   "outputs": [
    {
     "name": "stdout",
     "output_type": "stream",
     "text": [
      "--2023-10-26 22:40:26--  https://raw.githubusercontent.com/moussaKam/transfer_learning_transformers/main/cls-books/train.review.spm\n",
      "Resolving raw.githubusercontent.com (raw.githubusercontent.com)... 185.199.108.133, 185.199.109.133, 185.199.110.133, ...\n",
      "Connecting to raw.githubusercontent.com (raw.githubusercontent.com)|185.199.108.133|:443... connected.\n",
      "HTTP request sent, awaiting response... 200 OK\n",
      "Length: 1495960 (1.4M) [text/plain]\n",
      "Saving to: ‘train.review.spm.1’\n",
      "\n",
      "train.review.spm.1  100%[===================>]   1.43M  --.-KB/s    in 0.05s   \n",
      "\n",
      "2023-10-26 22:40:27 (30.0 MB/s) - ‘train.review.spm.1’ saved [1495960/1495960]\n",
      "\n",
      "--2023-10-26 22:40:27--  https://raw.githubusercontent.com/moussaKam/transfer_learning_transformers/main/cls-books/train.label\n",
      "Resolving raw.githubusercontent.com (raw.githubusercontent.com)... 185.199.108.133, 185.199.109.133, 185.199.110.133, ...\n",
      "Connecting to raw.githubusercontent.com (raw.githubusercontent.com)|185.199.108.133|:443... connected.\n",
      "HTTP request sent, awaiting response... 200 OK\n",
      "Length: 3200 (3.1K) [text/plain]\n",
      "Saving to: ‘train.label.1’\n",
      "\n",
      "train.label.1       100%[===================>]   3.12K  --.-KB/s    in 0s      \n",
      "\n",
      "2023-10-26 22:40:27 (49.0 MB/s) - ‘train.label.1’ saved [3200/3200]\n",
      "\n",
      "--2023-10-26 22:40:27--  https://raw.githubusercontent.com/moussaKam/transfer_learning_transformers/main/cls-books/test.review.spm\n",
      "Resolving raw.githubusercontent.com (raw.githubusercontent.com)... 185.199.108.133, 185.199.109.133, 185.199.110.133, ...\n",
      "Connecting to raw.githubusercontent.com (raw.githubusercontent.com)|185.199.108.133|:443... connected.\n",
      "HTTP request sent, awaiting response... 200 OK\n",
      "Length: 1864544 (1.8M) [text/plain]\n",
      "Saving to: ‘test.review.spm.1’\n",
      "\n",
      "test.review.spm.1   100%[===================>]   1.78M  --.-KB/s    in 0.05s   \n",
      "\n",
      "2023-10-26 22:40:27 (35.3 MB/s) - ‘test.review.spm.1’ saved [1864544/1864544]\n",
      "\n",
      "--2023-10-26 22:40:27--  https://raw.githubusercontent.com/moussaKam/transfer_learning_transformers/main/cls-books/test.label\n",
      "Resolving raw.githubusercontent.com (raw.githubusercontent.com)... 185.199.108.133, 185.199.111.133, 185.199.110.133, ...\n",
      "Connecting to raw.githubusercontent.com (raw.githubusercontent.com)|185.199.108.133|:443... connected.\n",
      "HTTP request sent, awaiting response... 200 OK\n",
      "Length: 4000 (3.9K) [text/plain]\n",
      "Saving to: ‘test.label.1’\n",
      "\n",
      "test.label.1        100%[===================>]   3.91K  --.-KB/s    in 0s      \n",
      "\n",
      "2023-10-26 22:40:28 (53.9 MB/s) - ‘test.label.1’ saved [4000/4000]\n",
      "\n"
     ]
    }
   ],
   "source": [
    "!wget https://raw.githubusercontent.com/moussaKam/transfer_learning_transformers/main/cls-books/train.review.spm\n",
    "!wget https://raw.githubusercontent.com/moussaKam/transfer_learning_transformers/main/cls-books/train.label\n",
    "!wget https://raw.githubusercontent.com/moussaKam/transfer_learning_transformers/main/cls-books/test.review.spm\n",
    "!wget https://raw.githubusercontent.com/moussaKam/transfer_learning_transformers/main/cls-books/test.label\n",
    "\n",
    "path_data_train = \"train.review.spm\"\n",
    "path_labels_train = \"train.label\"\n",
    "\n",
    "path_data_valid = \"test.review.spm\"\n",
    "path_labels_valid = \"test.label\""
   ]
  },
  {
   "cell_type": "code",
   "execution_count": 53,
   "metadata": {
    "id": "_MLfvjiom2SL"
   },
   "outputs": [],
   "source": [
    "# a function to evaluate the validation accuracy of the model.\n",
    "def evaluate_accuracy(data_loader):\n",
    "    model.eval()  # Set the model to evaluation mode\n",
    "    correct = 0\n",
    "    total = 0\n",
    "\n",
    "    with torch.no_grad():\n",
    "        for source, labels in data_loader:\n",
    "            # print(source.shape)\n",
    "            # print(\"TAT\")\n",
    "            # print(source.size(0))\n",
    "            source = torch.tensor(source).to(device)\n",
    "            src_mask = model.base.generate_square_subsequent_mask(source.size(0)).to(device)\n",
    "            # print(\"mask created\")\n",
    "            output = model(source, src_mask)\n",
    "            output = output[-1]\n",
    "            # print(output.shape)\n",
    "            predicted = torch.argmax(output, dim = -1)\n",
    "            labels = torch.tensor(labels).to(device)\n",
    "            total += labels.size(0)\n",
    "            correct += (predicted == labels).sum().item()\n",
    "\n",
    "    accuracy = correct / total\n",
    "    print(accuracy)\n",
    "    return accuracy"
   ]
  },
  {
   "cell_type": "code",
   "execution_count": 37,
   "metadata": {
    "id": "qzmx7T7xoa6v"
   },
   "outputs": [],
   "source": [
    "#save the base model to be loaded later in the fine-tuning phase\n",
    "torch.save({\"model_state_dict\": model.base.state_dict(),}, \"pretrained_model_4layers_no_class_head.pt\")"
   ]
  },
  {
   "cell_type": "code",
   "execution_count": 54,
   "metadata": {
    "colab": {
     "base_uri": "https://localhost:8080/"
    },
    "id": "i-xclMCpnVpw",
    "outputId": "79afc77c-a152-44d4-f0e2-dc165a860c95"
   },
   "outputs": [
    {
     "name": "stderr",
     "output_type": "stream",
     "text": [
      "/usr/local/lib/python3.10/dist-packages/torch/nn/modules/transformer.py:282: UserWarning: enable_nested_tensor is True, but self.use_nested_tensor is False because encoder_layer.self_attn.batch_first was not True(use batch_first for better inference performance)\n",
      "  warnings.warn(f\"enable_nested_tensor is True, but self.use_nested_tensor is False because {why_not_sparsity_fast_path}\")\n"
     ]
    },
    {
     "name": "stdout",
     "output_type": "stream",
     "text": [
      "=====Trainig FROM SCRATCH======\n",
      "| epoch   1 |    50/  200 steps | loss 0.77899 | ppl    2.179\n",
      "| epoch   1 |   100/  200 steps | loss 0.73260 | ppl    2.080\n",
      "| epoch   1 |   150/  200 steps | loss 0.74555 | ppl    2.108\n"
     ]
    },
    {
     "name": "stderr",
     "output_type": "stream",
     "text": [
      "<ipython-input-53-3ffff4905ac6>:12: UserWarning: To copy construct from a tensor, it is recommended to use sourceTensor.clone().detach() or sourceTensor.clone().detach().requires_grad_(True), rather than torch.tensor(sourceTensor).\n",
      "  source = torch.tensor(source).to(device)\n",
      "<ipython-input-53-3ffff4905ac6>:19: UserWarning: To copy construct from a tensor, it is recommended to use sourceTensor.clone().detach() or sourceTensor.clone().detach().requires_grad_(True), rather than torch.tensor(sourceTensor).\n",
      "  labels = torch.tensor(labels).to(device)\n"
     ]
    },
    {
     "name": "stdout",
     "output_type": "stream",
     "text": [
      "0.5\n",
      "| epoch   2 |    50/  200 steps | loss 0.72572 | ppl    2.066\n",
      "| epoch   2 |   100/  200 steps | loss 0.64107 | ppl    1.899\n",
      "| epoch   2 |   150/  200 steps | loss 0.62300 | ppl    1.865\n",
      "0.7105\n",
      "| epoch   3 |    50/  200 steps | loss 0.47493 | ppl    1.608\n",
      "| epoch   3 |   100/  200 steps | loss 0.45177 | ppl    1.571\n",
      "| epoch   3 |   150/  200 steps | loss 0.44114 | ppl    1.554\n",
      "0.7405\n",
      "| epoch   4 |    50/  200 steps | loss 0.19048 | ppl    1.210\n",
      "| epoch   4 |   100/  200 steps | loss 0.16698 | ppl    1.182\n",
      "| epoch   4 |   150/  200 steps | loss 0.19396 | ppl    1.214\n",
      "0.721\n",
      "| epoch   5 |    50/  200 steps | loss 0.16224 | ppl    1.176\n",
      "| epoch   5 |   100/  200 steps | loss 0.14939 | ppl    1.161\n",
      "| epoch   5 |   150/  200 steps | loss 0.09600 | ppl    1.101\n",
      "0.7535\n",
      "| epoch   6 |    50/  200 steps | loss 0.06111 | ppl    1.063\n",
      "| epoch   6 |   100/  200 steps | loss 0.07715 | ppl    1.080\n",
      "| epoch   6 |   150/  200 steps | loss 0.03696 | ppl    1.038\n",
      "0.769\n",
      "| epoch   7 |    50/  200 steps | loss 0.04117 | ppl    1.042\n",
      "| epoch   7 |   100/  200 steps | loss 0.00460 | ppl    1.005\n",
      "| epoch   7 |   150/  200 steps | loss 0.04415 | ppl    1.045\n",
      "0.75\n",
      "| epoch   8 |    50/  200 steps | loss 0.03024 | ppl    1.031\n",
      "| epoch   8 |   100/  200 steps | loss 0.09400 | ppl    1.099\n",
      "| epoch   8 |   150/  200 steps | loss 0.02165 | ppl    1.022\n",
      "0.761\n",
      "| epoch   9 |    50/  200 steps | loss 0.00575 | ppl    1.006\n",
      "| epoch   9 |   100/  200 steps | loss 0.01185 | ppl    1.012\n",
      "| epoch   9 |   150/  200 steps | loss 0.00669 | ppl    1.007\n",
      "0.741\n",
      "| epoch  10 |    50/  200 steps | loss 0.02958 | ppl    1.030\n",
      "| epoch  10 |   100/  200 steps | loss 0.01463 | ppl    1.015\n",
      "| epoch  10 |   150/  200 steps | loss 0.03861 | ppl    1.039\n",
      "0.756\n",
      "| epoch  11 |    50/  200 steps | loss 0.01296 | ppl    1.013\n",
      "| epoch  11 |   100/  200 steps | loss 0.03767 | ppl    1.038\n",
      "| epoch  11 |   150/  200 steps | loss 0.01109 | ppl    1.011\n",
      "0.757\n",
      "| epoch  12 |    50/  200 steps | loss 0.00002 | ppl    1.000\n",
      "| epoch  12 |   100/  200 steps | loss 0.00122 | ppl    1.001\n",
      "| epoch  12 |   150/  200 steps | loss 0.01345 | ppl    1.014\n",
      "0.76\n",
      "| epoch  13 |    50/  200 steps | loss 0.00002 | ppl    1.000\n",
      "| epoch  13 |   100/  200 steps | loss 0.00008 | ppl    1.000\n",
      "| epoch  13 |   150/  200 steps | loss 0.00045 | ppl    1.000\n",
      "0.7365\n",
      "| epoch  14 |    50/  200 steps | loss 0.08691 | ppl    1.091\n",
      "| epoch  14 |   100/  200 steps | loss 0.04283 | ppl    1.044\n",
      "| epoch  14 |   150/  200 steps | loss 0.01571 | ppl    1.016\n",
      "0.755\n",
      "| epoch  15 |    50/  200 steps | loss 0.00019 | ppl    1.000\n",
      "| epoch  15 |   100/  200 steps | loss 0.00003 | ppl    1.000\n",
      "| epoch  15 |   150/  200 steps | loss 0.00005 | ppl    1.000\n",
      "0.7485\n",
      "\n",
      "=====PRETRAINED MODEL======\n",
      "| epoch   1 |    50/  200 steps | loss 0.76771 | ppl    2.155\n",
      "| epoch   1 |   100/  200 steps | loss 0.67232 | ppl    1.959\n",
      "| epoch   1 |   150/  200 steps | loss 0.61559 | ppl    1.851\n",
      "0.6655\n",
      "| epoch   2 |    50/  200 steps | loss 0.52900 | ppl    1.697\n",
      "| epoch   2 |   100/  200 steps | loss 0.50894 | ppl    1.664\n",
      "| epoch   2 |   150/  200 steps | loss 0.44864 | ppl    1.566\n",
      "0.7335\n",
      "| epoch   3 |    50/  200 steps | loss 0.33850 | ppl    1.403\n",
      "| epoch   3 |   100/  200 steps | loss 0.24854 | ppl    1.282\n",
      "| epoch   3 |   150/  200 steps | loss 0.39443 | ppl    1.484\n",
      "0.701\n",
      "| epoch   4 |    50/  200 steps | loss 0.14762 | ppl    1.159\n",
      "| epoch   4 |   100/  200 steps | loss 0.13177 | ppl    1.141\n",
      "| epoch   4 |   150/  200 steps | loss 0.17045 | ppl    1.186\n",
      "0.738\n",
      "| epoch   5 |    50/  200 steps | loss 0.09786 | ppl    1.103\n",
      "| epoch   5 |   100/  200 steps | loss 0.10407 | ppl    1.110\n",
      "| epoch   5 |   150/  200 steps | loss 0.04807 | ppl    1.049\n",
      "0.705\n",
      "| epoch   6 |    50/  200 steps | loss 0.00297 | ppl    1.003\n",
      "| epoch   6 |   100/  200 steps | loss 0.01777 | ppl    1.018\n",
      "| epoch   6 |   150/  200 steps | loss 0.01295 | ppl    1.013\n",
      "0.7365\n",
      "| epoch   7 |    50/  200 steps | loss 0.00606 | ppl    1.006\n",
      "| epoch   7 |   100/  200 steps | loss 0.05124 | ppl    1.053\n",
      "| epoch   7 |   150/  200 steps | loss 0.03771 | ppl    1.038\n",
      "0.744\n",
      "| epoch   8 |    50/  200 steps | loss 0.01435 | ppl    1.014\n",
      "| epoch   8 |   100/  200 steps | loss 0.01839 | ppl    1.019\n",
      "| epoch   8 |   150/  200 steps | loss 0.00002 | ppl    1.000\n",
      "0.751\n",
      "| epoch   9 |    50/  200 steps | loss 0.01953 | ppl    1.020\n",
      "| epoch   9 |   100/  200 steps | loss 0.03212 | ppl    1.033\n",
      "| epoch   9 |   150/  200 steps | loss 0.00132 | ppl    1.001\n",
      "0.7\n",
      "| epoch  10 |    50/  200 steps | loss 0.03741 | ppl    1.038\n",
      "| epoch  10 |   100/  200 steps | loss 0.01081 | ppl    1.011\n",
      "| epoch  10 |   150/  200 steps | loss 0.01409 | ppl    1.014\n",
      "0.705\n",
      "| epoch  11 |    50/  200 steps | loss 0.09039 | ppl    1.095\n",
      "| epoch  11 |   100/  200 steps | loss 0.00020 | ppl    1.000\n",
      "| epoch  11 |   150/  200 steps | loss 0.00007 | ppl    1.000\n",
      "0.747\n",
      "| epoch  12 |    50/  200 steps | loss 0.01618 | ppl    1.016\n",
      "| epoch  12 |   100/  200 steps | loss 0.00002 | ppl    1.000\n",
      "| epoch  12 |   150/  200 steps | loss 0.06059 | ppl    1.062\n",
      "0.744\n",
      "| epoch  13 |    50/  200 steps | loss 0.00376 | ppl    1.004\n",
      "| epoch  13 |   100/  200 steps | loss 0.00001 | ppl    1.000\n",
      "| epoch  13 |   150/  200 steps | loss 0.00001 | ppl    1.000\n",
      "0.749\n",
      "| epoch  14 |    50/  200 steps | loss 0.01701 | ppl    1.017\n",
      "| epoch  14 |   100/  200 steps | loss 0.00024 | ppl    1.000\n",
      "| epoch  14 |   150/  200 steps | loss 0.00488 | ppl    1.005\n",
      "0.7415\n",
      "| epoch  15 |    50/  200 steps | loss 0.01076 | ppl    1.011\n",
      "| epoch  15 |   100/  200 steps | loss 0.00001 | ppl    1.000\n",
      "| epoch  15 |   150/  200 steps | loss 0.00000 | ppl    1.000\n",
      "0.7355\n",
      "\n"
     ]
    }
   ],
   "source": [
    "from_scratch_settings = [True, False]\n",
    "\n",
    "from_scratch_valid_acc = []\n",
    "pretrained_valid_acc = []\n",
    "lr = 0.0001\n",
    "\n",
    "for from_scratch in from_scratch_settings:\n",
    "    model = Model(ntokens, nhead, nhid, nlayers, 2, dropout).to(device)\n",
    "    criterion = nn.CrossEntropyLoss()\n",
    "    optimizer = torch.optim.Adam(model.parameters(), lr=lr)\n",
    "    if not from_scratch:\n",
    "        print(\"=====PRETRAINED MODEL======\")\n",
    "        #load checkpoint\n",
    "        checkpoint = torch.load(\"pretrained_model_4layers_no_class_head.pt\")\n",
    "        #load state dict\n",
    "        model.base.load_state_dict(checkpoint['model_state_dict'])\n",
    "    else:\n",
    "        print(\"=====Trainig FROM SCRATCH======\")\n",
    "    epochs = 15\n",
    "    for epoch in range(1, epochs + 1):\n",
    "        train(\n",
    "            path_data_train,\n",
    "            path_labels_train,\n",
    "            save_interval=-1,\n",
    "            task='classification',\n",
    "            batch_size=8,\n",
    "            log_interval=50,\n",
    "        )\n",
    "        acc = evaluate_accuracy(\n",
    "            get_loader(\n",
    "                path_data_valid,\n",
    "                path_labels_valid,\n",
    "                token2ind=token2ind,\n",
    "                batch_size=20,\n",
    "                task='classification',\n",
    "            )\n",
    "        )\n",
    "        if from_scratch:\n",
    "            from_scratch_valid_acc.append(acc)\n",
    "        else:\n",
    "            pretrained_valid_acc.append(acc)\n",
    "    print()"
   ]
  },
  {
   "cell_type": "code",
   "execution_count": 55,
   "metadata": {
    "colab": {
     "base_uri": "https://localhost:8080/",
     "height": 472
    },
    "id": "RCpBIdTHojm6",
    "outputId": "4f624595-bca9-419e-de3a-fd1087886518"
   },
   "outputs": [
    {
     "data": {
      "image/png": "[encoded data removed]",
      "text/plain": [
       "<Figure size 640x480 with 1 Axes>"
      ]
     },
     "metadata": {},
     "output_type": "display_data"
    }
   ],
   "source": [
    "#Visualize the accuracy\n",
    "import matplotlib.pyplot as plt\n",
    "\n",
    "# Tracer les courbes\n",
    "plt.plot(from_scratch_valid_acc, label=\"from_scratch_valid_acc\")\n",
    "plt.plot(pretrained_valid_acc, label=\"pretrained_valid_acc\")\n",
    "\n",
    "# Ajouter une légende\n",
    "plt.legend()\n",
    "\n",
    "# Définir des étiquettes pour les axes\n",
    "plt.xlabel(\"Epochs\")\n",
    "plt.ylabel(\"Accuracy\")\n",
    "\n",
    "# Titre du graphique\n",
    "plt.title(\"Accuracies curves\")\n",
    "\n",
    "# Afficher le graphique\n",
    "plt.show()\n"
   ]
  }
 ],
 "metadata": {
  "accelerator": "GPU",
  "colab": {
   "provenance": []
  },
  "kernelspec": {
   "display_name": "Python 3 (ipykernel)",
   "language": "python",
   "name": "python3"
  },
  "language_info": {
   "codemirror_mode": {
    "name": "ipython",
    "version": 3
   },
   "file_extension": ".py",
   "mimetype": "text/x-python",
   "name": "python",
   "nbconvert_exporter": "python",
   "pygments_lexer": "ipython3",
   "version": "3.9.12"
  },
  "vscode": {
   "interpreter": {
    "hash": "1f3cfdeab8dd8f9900bd16266619de191cf0f5e09365d74b1fba1714dce58066"
   }
  }
 },
 "nbformat": 4,
 "nbformat_minor": 1
}
